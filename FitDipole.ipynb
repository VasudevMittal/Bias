{
 "cells": [
  {
   "cell_type": "code",
   "execution_count": 11,
   "id": "d98e8ef6-66f1-4ccb-92ad-bdca2f485c5e",
   "metadata": {},
   "outputs": [],
   "source": [
    "import numpy as np\n",
    "import healpy as hp\n",
    "filelist = []\n",
    "nside = 64\n",
    "u = [\"pixel/\",\"galacticpixel/\",\"supergalacticpixel/\"]\n",
    "v = [\"output.dat\",\"outputgal.dat\",\"outputsgal.dat\"]\n",
    "for number in [0,1,2]\n",
    "    for i in [100000,500000,1000000,5000000]:\n",
    "        for j in range(1,201):\n",
    "            size = i\n",
    "            code = j\n",
    "            name = u[number]+str(size)+\"a\"+str(code)+\".dat\"\n",
    "            a = np.loadtxt(name,usecols=(0))\n",
    "            b = hp.pixelfunc.fit_dipole(a,nest=False)\n",
    "            c = np.array([size,b[0],b[1][0],b[1][1],b[1][2]])\n",
    "            filelist.append(c)\n",
    "    file = open(v[number],\"w\")\n",
    "    np.savetxt(file,filelist)\n",
    "    file.close()"
   ]
  },
  {
   "cell_type": "code",
   "execution_count": 15,
   "id": "687dab03-9545-46e0-8dfb-74151cdd400c",
   "metadata": {},
   "outputs": [],
   "source": []
  }
 ],
 "metadata": {
  "kernelspec": {
   "display_name": "Python 3 (ipykernel)",
   "language": "python",
   "name": "python3"
  },
  "language_info": {
   "codemirror_mode": {
    "name": "ipython",
    "version": 3
   },
   "file_extension": ".py",
   "mimetype": "text/x-python",
   "name": "python",
   "nbconvert_exporter": "python",
   "pygments_lexer": "ipython3",
   "version": "3.10.4"
  }
 },
 "nbformat": 4,
 "nbformat_minor": 5
}
