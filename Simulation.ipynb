{
 "cells": [
  {
   "cell_type": "code",
   "execution_count": null,
   "id": "c349d311-ffe8-4ec5-a5d0-94e50b8e38d7",
   "metadata": {
    "tags": []
   },
   "outputs": [],
   "source": [
    "include(\"Simulation.jl\")"
   ]
  },
  {
   "cell_type": "code",
   "execution_count": null,
   "id": "f6989e6f-f1fd-4a64-a222-547d4743aa92",
   "metadata": {
    "tags": []
   },
   "outputs": [],
   "source": [
    "#Creating a dataset of Size i for j files (default 300), boosting it for the CMB values (listed in Simulation.jl), applying relevant cuts, converting it to Healpix map of given nside.\n",
    "#If cut size is needed to be changed, change the 30 of galcut to relevant value in degrees. Note that the default cut is +-30 degrees about the galactic and super-galactic equator.\n",
    "#saves the maps as arrays in .dat files in Ring Order in the pixel, galacitcpixels and supergalactic pixels. Note that by default 300 files are created for each type.\n",
    "for i in [100000,500000,1000000,5000000,10000000]\n",
    "    for j in 1:300\n",
    "        a = dataset(i)\n",
    "        dop = doppler.(a)\n",
    "        ra,dec = [dop[i][1] for i in 1:length(dop)],[dop[i][2] for i in 1:length(dop)]\n",
    "        gal= galcut.(ra,dec,30)\n",
    "        gal=gal[gal.!=nothing]\n",
    "        galra,galdec = [gal[i][1] for i in 1:length(gal)],[gal[i][2] for i in 1:length(gal)]\n",
    "        sgal = sgalcut.(ra,dec,30)\n",
    "        sgal= sgal[sgal.!=nothing]\n",
    "        sgalra,sgaldec = [sgal[i][1] for i in 1:length(sgal)], [sgal[i][2] for i in 1:length(sgal)]\n",
    "        b = scattomap(n[1:length(ra)],ra, dec,nside)\n",
    "        c = scattomap(n[1:length(galra)],galra, galdec,nside)\n",
    "        d = scattomap(n[1:length(sgalra)],sgalra, sgaldec,nside)\n",
    "        writedlm(\"pixel/\"*string(i)*\"a\"*string(j)*\".dat\",b,\"\\t\")\n",
    "        writedlm(\"galacticpixel/\"*string(i)*\"a\"*string(j)*\".dat\", c,\"\\t\")\n",
    "        writedlm(\"supergalacticpixel/\"*string(i)*\"a\"*string(j)*\".dat\", d,\"\\t\")\n",
    "    end\n",
    "end"
   ]
  }
 ],
 "metadata": {
  "kernelspec": {
   "display_name": "Julia 1.7.3",
   "language": "julia",
   "name": "julia-1.7"
  },
  "language_info": {
   "file_extension": ".jl",
   "mimetype": "application/julia",
   "name": "julia",
   "version": "1.7.3"
  }
 },
 "nbformat": 4,
 "nbformat_minor": 5
}
