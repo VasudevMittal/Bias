{
 "cells": [
  {
   "cell_type": "code",
   "execution_count": null,
   "id": "23d9bd5a-92c4-44ae-97bb-0072df1946ec",
   "metadata": {},
   "outputs": [],
   "source": [
    "using LinearAlgebra\n",
    "using DelimitedFiles\n",
    "using Plots\n",
    "for i in [\"output.dat\",\"outputgal.dat\",\"outputsgal.dat\"]\n",
    "    a = (readdlm(i), :auto)[1]\n",
    "    s,m,dx,dy,dz = a[:,1],a[:,2],a[:,3],a[:,4] ,a[:,5]\n",
    "    r,theta,phi = 0.007,deg2rad(-7),deg2rad(167)\n",
    "    t = [(r*cos(phi)*cos(theta)),(r*sin(phi)*cos(theta)),(r*sin(theta))]\n",
    "    nt = norm(t)\n",
    "    angle = []\n",
    "    magnitude = []\n",
    "    for i in 1:length(a[:,1])\n",
    "        u = [(dx[i]/m[i]),(dy[i]/m[i]),(dz[i]/m[i])]\n",
    "        theta = acos(dot(t,u)/(nt*norm(u)))\n",
    "        push!(magnitude,norm(u))\n",
    "        push!(angle,theta)\n",
    "    end\n",
    "    p = plot(magnitude[1:300],angle[1:300],seriestype=:scatter,label=string(unique(s)[1]),xlim=(0,0.03),ylim=(0,3))\n",
    "    plot!(magnitude[301:600],angle[301:600],seriestype=:scatter,label=string(unique(s)[2]),xlim=(0,0.03),ylim=(0,3))\n",
    "    plot!(magnitude[601:900],angle[601:900],seriestype=:scatter,label=string(unique(s)[3]),xlim=(0,0.03),ylim=(0,3))\n",
    "    plot!(magnitude[901:1200],angle[901:1200],seriestype=:scatter,label=string(unique(s)[4]),xlim=(0,0.03),ylim=(0,3))\n",
    "    plot!(magnitude[1201:1500],angle[1201:1500],seriestype=:scatter,label=string(unique(s)[4]),xlim=(0,0.03),ylim=(0,3))\n",
    "    display(p)\n",
    "end"
   ]
  },
  {
   "cell_type": "code",
   "execution_count": null,
   "id": "e94dc900-63f2-4e3d-bed5-9473a051d2a3",
   "metadata": {},
   "outputs": [],
   "source": []
  }
 ],
 "metadata": {
  "kernelspec": {
   "display_name": "Julia 1.7.3",
   "language": "julia",
   "name": "julia-1.7"
  },
  "language_info": {
   "file_extension": ".jl",
   "mimetype": "application/julia",
   "name": "julia",
   "version": "1.7.3"
  }
 },
 "nbformat": 4,
 "nbformat_minor": 5
}
