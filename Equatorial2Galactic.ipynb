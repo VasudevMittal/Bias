{
 "cells": [
  {
   "cell_type": "code",
   "execution_count": 4,
   "id": "9351fc60-9d7c-4f61-9348-0c144924470f",
   "metadata": {},
   "outputs": [],
   "source": [
    "include(\"Simulation.jl\")\n",
    "alpha = [\"output.dat\",\"outputgal.dat\",\"outputsgal.dat\"]\n",
    "beta = [\"output2.dat\",\"outputgal2.dat\",\"outputsgal2.dat\"]\n",
    "for i in [1,2,3]\n",
    "    a = (readdlm(alpha[i]), :auto)[1]\n",
    "    s,m,dx,dy,dz = a[:,1],a[:,2],a[:,3],a[:,4],a[:,5]\n",
    "    gamma = []\n",
    "    for i in 1:length(a[:,1])\n",
    "        u = c2s((dx[i]/m[i]),(dy[i]/m[i]),(dz[i]/m[i]))#ra,dec\n",
    "        v = euler(u[1],u[2],1)\n",
    "        v = [v[1]+180,v[2]]\n",
    "        if v[1]>180\n",
    "            v[1]-=360\n",
    "        end\n",
    "        w = [s[i],v[1],v[2]]\n",
    "        push!(gamma,w)\n",
    "    end\n",
    "    writedlm(beta[i],gamma,\"\\t\")\n",
    "end"
   ]
  },
  {
   "cell_type": "code",
   "execution_count": null,
   "id": "2330aecc-0a85-47b2-861c-5ded26768e45",
   "metadata": {},
   "outputs": [],
   "source": []
  }
 ],
 "metadata": {
  "kernelspec": {
   "display_name": "Julia 1.7.3",
   "language": "julia",
   "name": "julia-1.7"
  },
  "language_info": {
   "file_extension": ".jl",
   "mimetype": "application/julia",
   "name": "julia",
   "version": "1.7.3"
  }
 },
 "nbformat": 4,
 "nbformat_minor": 5
}
