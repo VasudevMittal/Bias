{
 "cells": [
  {
   "cell_type": "code",
   "execution_count": null,
   "id": "c8ade1ef-5006-44a1-9028-9b53a4a87384",
   "metadata": {},
   "outputs": [],
   "source": [
    "#Visulaizing the dipoles in equatorial coordinates. Only 3 types of sky are differentiated and different catalogue sizes for same type of sky are plotted in same color.\n",
    "import matplotlib.pyplot as plt\n",
    "import numpy as np\n",
    "import astropy.coordinates as ap\n",
    "projection = 'mollweide'\n",
    "fig = plt.figure(figsize=(25,12.5))\n",
    "ax = fig.add_subplot(111, projection=projection)\n",
    "ax.grid(True)\n",
    "u = [\"output2.dat\",\"outputgal2.dat\",\"outputsgal2.dat\"]\n",
    "j = [\"Complete Sky\",\"Galactic Cut (+-30 Degrees)\",\"Super-Galactic Cut (+-30 Degrees)\"]\n",
    "for i in [0,1,2]:\n",
    "    a = np.loadtxt(u[i],usecols=(0,1,2))\n",
    "    s,alpha,delta = a[:,0],a[:,1],a[:,2]\n",
    "    coord = np.zeros((len(a),2))\n",
    "    for l in range(len(a)):\n",
    "        coord[l] = np.array([alpha[l],delta[l]])\n",
    "    ax.plot(np.radians(coord[:,0]),np.radians(coord[:,1]),'*',label = j[i])\n",
    "ax.plot(np.radians(262.92103505720036-180),np.radians(47.67440904728711),'k*',label=\"True Dipole\")\n",
    "plt.title(\"Dipole Distribution\")\n",
    "ax.set_yticklabels([])\n",
    "ax.set_xticklabels([])\n",
    "plt.legend()\n",
    "plt.savefig(\"Dipole Distribution.png\")\n",
    "plt.show()"
   ]
  }
 ],
 "metadata": {
  "kernelspec": {
   "display_name": "Python 3 (ipykernel)",
   "language": "python",
   "name": "python3"
  },
  "language_info": {
   "codemirror_mode": {
    "name": "ipython",
    "version": 3
   },
   "file_extension": ".py",
   "mimetype": "text/x-python",
   "name": "python",
   "nbconvert_exporter": "python",
   "pygments_lexer": "ipython3",
   "version": "3.9.7"
  }
 },
 "nbformat": 4,
 "nbformat_minor": 5
}
