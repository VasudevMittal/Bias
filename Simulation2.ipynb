{
 "cells": [
  {
   "cell_type": "code",
   "execution_count": 1,
   "id": "c3f425ee-f877-44c3-9d9a-ead661b4dfdf",
   "metadata": {},
   "outputs": [],
   "source": [
    "import LinearAlgebra: norm\n",
    "import Statistics as st\n",
    "using DelimitedFiles\n",
    "using Healpix\n",
    "using Plots"
   ]
  },
  {
   "cell_type": "code",
   "execution_count": null,
   "id": "3e24d755-df33-4983-a706-5e0912f165c0",
   "metadata": {},
   "outputs": [],
   "source": [
    "function bias(a,b)\n",
    "        return norm(a+b)/norm(a)\n",
    "end\n",
    "function s2c(r,alpha, delta)\n",
    "    alpha,delta = deg2rad(alpha),deg2rad(delta)\n",
    "    x = r*cos(alpha) * cos(delta)\n",
    "    y = r*cos(delta) * sin(alpha)\n",
    "    z = r*sin(delta)\n",
    "    return [x, y, z]\n",
    "end\n",
    "r,a,d = 0.007,167,-7\n",
    "t = s2c(r,a,d)\n",
    "arr = []\n",
    "while length(arr)<1500\n",
    "    push!(arr,t)\n",
    "end\n",
    "b,err,w,e = [],[],[],[]\n",
    "for i in [\"output.dat\",\"outputgal.dat\",\"outputsgal.dat\"]\n",
    "    a = (readdlm(i), :auto)[1]\n",
    "    s,m,dx,dy,dz = a[:,1],a[:,2],a[:,3],a[:,4] ,a[:,5]\n",
    "    v,x = [],[]\n",
    "    for i in 1:length(a[:,1])\n",
    "        push!(x,[(dx[i]/m[i]),(dy[i]/m[i]),(dz[i]/m[i])])\n",
    "    end\n",
    "    v = bias.(arr,x)\n",
    "    q = sqrt(length(s)/length(unique(s)))\n",
    "    push!(b,[st.mean(v[1:300]),st.mean(v[301:600]),st.mean(v[601:900]),st.mean(v[901:1200]).,st.mean(v[1201:1500])])\n",
    "    push!(err,[st.std(v[1:300])/q,st.std(v[301:600])/q,st.std(v[601:900])/q,st.std(v[901:1200])/q,,st.std(v[1201:1500])/q])\n",
    "    push!(w,unique(s))\n",
    "end\n",
    "plot(w[1],b[1],seriestype = :scatter,xaxis=:log,grid=true,minorgrid=true,yerror=err[1],label=\"Complete Sky\")\n",
    "plot!(w[2],b[2],seriestype = :scatter,yerror=err[2],label=\"Galactic Cut (+-30 Degrees)\")\n",
    "plot!(w[3],b[3],seriestype = :scatter,yerror=err[3],label=\"Super-Galactic Cut (+-30 Degrees)\")\n",
    "xlabel!(\"Dataset Size\")\n",
    "ylabel!(\"Bias\")\n",
    "title!(\"Bias vs Souce Count (300 iterations for each point)\")\n",
    "#savefig(\"Bias-Net.png\")"
   ]
  }
 ],
 "metadata": {
  "kernelspec": {
   "display_name": "Julia 1.7.3",
   "language": "julia",
   "name": "julia-1.7"
  },
  "language_info": {
   "file_extension": ".jl",
   "mimetype": "application/julia",
   "name": "julia",
   "version": "1.7.3"
  }
 },
 "nbformat": 4,
 "nbformat_minor": 5
}
